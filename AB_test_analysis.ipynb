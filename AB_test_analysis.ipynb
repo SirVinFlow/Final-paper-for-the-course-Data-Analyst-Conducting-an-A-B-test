{
 "cells": [
  {
   "cell_type": "code",
   "execution_count": 1,
   "id": "ff2e69aa-bddc-4fca-af74-a76182acef44",
   "metadata": {},
   "outputs": [],
   "source": [
    "import pandas as pd\n",
    "import numpy as np\n",
    "import scipy.stats as stats\n",
    "import matplotlib.pyplot as plt\n",
    "import seaborn as sns"
   ]
  },
  {
   "cell_type": "code",
   "execution_count": 2,
   "id": "f7aa2e28-36ce-4c2c-b415-cd34c307a262",
   "metadata": {},
   "outputs": [
    {
     "name": "stdout",
     "output_type": "stream",
     "text": [
      "Money Data:\n",
      "         user_id        date  money\n",
      "0  N4TS2T-P7YTVX  15.07.2021   1.99\n",
      "1  NX9S0D-VM20W8  16.07.2021   0.99\n",
      "2  QYY6FW-FKHRND  15.07.2021   0.00\n",
      "3  BRWH4Y-LPGBU6  14.07.2021   0.00\n",
      "4  8O317F-4ASK53  13.07.2021   0.00\n",
      "Cash Data:\n",
      "         user_id        date  cash\n",
      "0  GGLSXL-U5BGGY  17.07.2021   200\n",
      "1  DPWFFN-NL3VF8  16.07.2021   150\n",
      "2  PASNNG-GVW4RR  11.07.2021  1100\n",
      "3  4F0AW7-F40GY9  15.07.2021  1050\n",
      "4  CEY6AF-YTSM4V  15.07.2021   150\n",
      "Platforms Data:\n",
      "         user_id platform\n",
      "0  NHFL0F-Y90OSH     XBox\n",
      "1  MVPNHS-PBHB8S     XBox\n",
      "2  1UWMRN-8NVCLI       PC\n",
      "3  EHO5II-03X9PU      PS4\n",
      "4  7C5ZAE-D1NCY9     XBox\n",
      "Cheaters Data:\n",
      "         user_id  cheaters\n",
      "0  TWLWB9-L19SYJ         0\n",
      "1  SD0L4U-1JG4WN         0\n",
      "2  QZVG35-P8JKNU         0\n",
      "3  S2VBV4-ZKBHI6         0\n",
      "4  DDGKMQ-45SP8R         0\n",
      "ABgroup Data:\n",
      "         user_id    group\n",
      "0  VX6NLA-F5YMSW  control\n",
      "1  2AXN3D-71ZN86     test\n",
      "2  K78V3J-TQMV6F     test\n",
      "3  Z2KEIG-LY3V4H     test\n",
      "4  ND92RZ-SHG980  control\n"
     ]
    }
   ],
   "source": [
    "money = pd.read_csv(\"Money.csv\")\n",
    "cash = pd.read_csv(\"Cash.csv\")\n",
    "platforms = pd.read_csv(\"Platforms.csv\")\n",
    "cheaters = pd.read_csv(\"Cheaters.csv\")\n",
    "abgroup = pd.read_csv(\"ABgroup.csv\")\n",
    "\n",
    "print(\"Money Data:\")\n",
    "print(money.head())\n",
    "\n",
    "print(\"Cash Data:\")\n",
    "print(cash.head())\n",
    "\n",
    "print(\"Platforms Data:\")\n",
    "print(platforms.head())\n",
    "\n",
    "print(\"Cheaters Data:\")\n",
    "print(cheaters.head())\n",
    "\n",
    "print(\"ABgroup Data:\")\n",
    "print(abgroup.head())"
   ]
  },
  {
   "cell_type": "code",
   "execution_count": 3,
   "id": "f83413b7-cbf9-4d64-be4a-cb6e12929b60",
   "metadata": {},
   "outputs": [],
   "source": [
    "# Убираем только тех, у кого в таблице читеров стоит флаг 1\n",
    "cheaters_filtered = cheaters[cheaters['cheaters'] == 1]\n",
    "cash_cleaned = cash[~cash['user_id'].isin(cheaters_filtered['user_id'])]"
   ]
  },
  {
   "cell_type": "code",
   "execution_count": 4,
   "id": "aa9fc772-fc79-4bcd-af92-6d19e6379f48",
   "metadata": {},
   "outputs": [],
   "source": [
    "# Поиск неизвестных читеров через правило трех сигм\n",
    "threshold = cash_cleaned['cash'].mean() + 3 * cash_cleaned['cash'].std()\n",
    "cash_cleaned = cash_cleaned[cash_cleaned['cash'] <= threshold]"
   ]
  },
  {
   "cell_type": "code",
   "execution_count": 5,
   "id": "31049bd6-d843-4f0f-a1c1-681394b2b622",
   "metadata": {},
   "outputs": [],
   "source": [
    "# Очистка от дубликатов перед объединением\n",
    "cash_cleaned = cash_cleaned.drop_duplicates('user_id')\n",
    "platforms = platforms.drop_duplicates('user_id')\n",
    "money = money.groupby('user_id', as_index=False)['money'].sum()"
   ]
  },
  {
   "cell_type": "code",
   "execution_count": 6,
   "id": "70d11ba4-94bf-49b5-93ed-59a088b0d4f2",
   "metadata": {},
   "outputs": [],
   "source": [
    "# Объединение таблиц (очищенные данные)\n",
    "data = abgroup.merge(money, on='user_id', how='left')\\\n",
    "              .merge(cash_cleaned, on='user_id', how='left')\\\n",
    "              .merge(platforms.drop_duplicates('user_id'), on='user_id', how='left')\n",
    "data.fillna({'money': 0, 'cash': 0}, inplace=True)\n",
    "data['money'] = data['money'].astype('float32')\n",
    "data['cash'] = data['cash'].astype('float32')"
   ]
  },
  {
   "cell_type": "code",
   "execution_count": 7,
   "id": "b879069a-2d1e-4c49-afdc-3d39bf7afafa",
   "metadata": {},
   "outputs": [
    {
     "name": "stdout",
     "output_type": "stream",
     "text": [
      "     group      ARPU     ARPPU    avg_cash\n",
      "0  control  5.825638  5.831109  695.501099\n",
      "1     test  6.158380  6.163142  740.286438\n"
     ]
    }
   ],
   "source": [
    "# Расчёт метрик ARPU и ARPPU по группам\n",
    "metrics = data.groupby('group').agg(\n",
    "    ARPU=('money', lambda x: x.sum() / len(x)),\n",
    "    ARPPU=('money', lambda x: x.sum() / (x > 0).sum()),\n",
    "    avg_cash=('cash', 'mean')\n",
    ").reset_index()\n",
    "\n",
    "print(metrics)"
   ]
  },
  {
   "cell_type": "code",
   "execution_count": 8,
   "id": "b201c65d-f88c-48cb-b9ef-ae709265e1c4",
   "metadata": {},
   "outputs": [],
   "source": [
    "metrics['ARPU_change_%'] = (metrics['ARPU'] / metrics['ARPU'].iloc[0] - 1) * 100"
   ]
  },
  {
   "cell_type": "code",
   "execution_count": 9,
   "id": "24c75cfc-4d8a-4023-bbe7-9f0926421ac2",
   "metadata": {},
   "outputs": [
    {
     "name": "stdout",
     "output_type": "stream",
     "text": [
      "     group platform      ARPU     ARPPU  avg_cash_spent\n",
      "0  control       PC  5.635040  5.648307      676.370178\n",
      "1  control      PS4  5.737648  5.739467      681.580200\n",
      "2  control     XBox  6.103522  6.104435      728.463867\n",
      "3     test       PC  6.257180  6.269743      760.041870\n",
      "4     test      PS4  6.084881  6.085865      728.265747\n",
      "5     test     XBox  6.132764  6.133684      732.498291\n"
     ]
    }
   ],
   "source": [
    "metrics_platform = data.groupby(['group', 'platform']).agg(\n",
    "    ARPU=('money', lambda x: x.sum() / len(x)),\n",
    "    ARPPU=('money', lambda x: x.sum() / (x > 0).sum()),\n",
    "    avg_cash_spent=('cash', 'mean')\n",
    ").reset_index()\n",
    "\n",
    "print(metrics_platform)"
   ]
  },
  {
   "cell_type": "code",
   "execution_count": 10,
   "id": "ae2172d9-5c5b-491b-b002-d205edae9a44",
   "metadata": {},
   "outputs": [],
   "source": [
    "# Построение доверительных интервалов (95%)\n",
    "import scipy.stats as st\n",
    "def conf_interval(data):\n",
    "    mean = np.mean(data)\n",
    "    sem = st.sem(data)\n",
    "    return st.t.interval(0.95, len(data)-1, loc=mean, scale=sem)\n"
   ]
  },
  {
   "cell_type": "code",
   "execution_count": 11,
   "id": "247501ff-ed2a-4318-8ee0-1ccf18c6e125",
   "metadata": {},
   "outputs": [],
   "source": [
    "metrics['sample_size'] = data.groupby('group')['money'].count().values"
   ]
  },
  {
   "cell_type": "code",
   "execution_count": 12,
   "id": "b5145204-97ae-49be-970e-dbca2e50d0e0",
   "metadata": {},
   "outputs": [
    {
     "name": "stdout",
     "output_type": "stream",
     "text": [
      "Группа control: Доверительный интервал (5.823866542087265, 5.82740909267836)\n",
      "Группа test: Доверительный интервал (6.156571725593186, 6.160187383903884)\n"
     ]
    }
   ],
   "source": [
    "# Доверительный интервал для ARPU\n",
    "for group in data['group'].unique():\n",
    "    group_data = data[data['group'] == group]['money']\n",
    "    ci = conf_interval(group_data)\n",
    "    print(f'Группа {group}: Доверительный интервал {ci}')"
   ]
  },
  {
   "cell_type": "code",
   "execution_count": 13,
   "id": "d8d9e4d9-c362-4578-abce-007ff5ad0a81",
   "metadata": {},
   "outputs": [
    {
     "name": "stdout",
     "output_type": "stream",
     "text": [
      "✅ Данные успешно сохранены в 'final_dataset.csv'\n"
     ]
    }
   ],
   "source": [
    "# Сохранение итогового датасета в CSV\n",
    "data.to_csv(\"final_dataset.csv\", index=False, encoding=\"utf-8-sig\")\n",
    "\n",
    "print(\"✅ Данные успешно сохранены в 'final_dataset.csv'\")"
   ]
  },
  {
   "cell_type": "code",
   "execution_count": 14,
   "id": "70b6e486-bfdd-4b2f-ad94-2c5f96450559",
   "metadata": {},
   "outputs": [
    {
     "name": "stdout",
     "output_type": "stream",
     "text": [
      "Файл daily_ARPU_ARPPU.csv создан! Его можно загружать в Power BI\n"
     ]
    }
   ],
   "source": [
    "#  Группируем данные по дням и считаем ARPU и ARPPU\n",
    "daily_metrics = data.groupby(['date', 'group']).agg(\n",
    "    total_money=('money', 'sum'),\n",
    "    total_users=('user_id', 'count'),\n",
    "    paying_users=('money', lambda x: (x > 0).sum()),\n",
    "    avg_cash_spent=('cash', 'mean')\n",
    ").reset_index()\n",
    "\n",
    "# Вычисляем ARPU и ARPPU\n",
    "daily_metrics['ARPU'] = daily_metrics['total_money'] / daily_metrics['total_users']\n",
    "daily_metrics['ARPPU'] = daily_metrics['total_money'] / daily_metrics['paying_users']\n",
    "\n",
    "# Сохраняем в CSV для Power BI\n",
    "daily_metrics.to_csv(\"daily_ARPU_ARPPU.csv\", index=False, encoding=\"utf-8-sig\")\n",
    "\n",
    "print(\"Файл daily_ARPU_ARPPU.csv создан! Его можно загружать в Power BI\")\n"
   ]
  },
  {
   "cell_type": "code",
   "execution_count": 19,
   "id": "dd5003d2-ca2e-4644-9f3d-2665e3f1610d",
   "metadata": {},
   "outputs": [
    {
     "name": "stdout",
     "output_type": "stream",
     "text": [
      " Файл metrics_by_platform.xlsx создан! Теперь его можно открыть в Excel.\n"
     ]
    }
   ],
   "source": [
    "# Группируем данные по платформам и группам\n",
    "metrics_platform = data.groupby(['group', 'platform']).agg(\n",
    "    ARPU=('money', lambda x: x.sum() / len(x)),\n",
    "    ARPPU=('money', lambda x: x.sum() / (x > 0).sum())\n",
    ").reset_index()\n",
    "\n",
    "#  Сохраняем правильно в Excel\n",
    "metrics_platform.to_excel(\"metrics_by_platform.xlsx\", index=False, sheet_name=\"ARPU_by_platform\")\n",
    "\n",
    "print(\" Файл metrics_by_platform.xlsx создан! Теперь его можно открыть в Excel.\")\n",
    "\n"
   ]
  },
  {
   "cell_type": "code",
   "execution_count": null,
   "id": "f49db033-b486-4bf7-b57a-9d11acf84fa7",
   "metadata": {},
   "outputs": [],
   "source": []
  }
 ],
 "metadata": {
  "kernelspec": {
   "display_name": "Python 3 (ipykernel)",
   "language": "python",
   "name": "python3"
  },
  "language_info": {
   "codemirror_mode": {
    "name": "ipython",
    "version": 3
   },
   "file_extension": ".py",
   "mimetype": "text/x-python",
   "name": "python",
   "nbconvert_exporter": "python",
   "pygments_lexer": "ipython3",
   "version": "3.12.7"
  }
 },
 "nbformat": 4,
 "nbformat_minor": 5
}
